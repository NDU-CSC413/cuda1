{
  "nbformat": 4,
  "nbformat_minor": 0,
  "metadata": {
    "colab": {
      "name": "CUDA_GPU-server.ipynb",
      "provenance": [],
      "collapsed_sections": [],
      "toc_visible": true
    },
    "kernelspec": {
      "name": "python3",
      "display_name": "Python 3"
    }
  },
  "cells": [
    {
      "cell_type": "code",
      "metadata": {
        "id": "7LkFelkcVVeM"
      },
      "source": [
        "# Created by Imad El Hanafi : https://imadelhanafi.com"
      ],
      "execution_count": null,
      "outputs": []
    },
    {
      "cell_type": "markdown",
      "metadata": {
        "id": "7KYvm7elVabs"
      },
      "source": [
        "# Check GPU status\n",
        "\n",
        "Make surre to use : GPU runtime mode (Runtime->Change Runtime type -> python3 + GPU\n",
        ")\n",
        "\n"
      ]
    },
    {
      "cell_type": "code",
      "metadata": {
        "id": "-nwY1_gYVcpc"
      },
      "source": [
        "# Check nvidia and nvcc cuda compiler\n",
        "\n",
        "!nvidia-smi\n",
        "!/usr/local/cuda/bin/nvcc --version"
      ],
      "execution_count": null,
      "outputs": []
    },
    {
      "cell_type": "markdown",
      "metadata": {
        "id": "FT66Rd6yV3ib"
      },
      "source": [
        "#Mount Goolge Drive"
      ]
    },
    {
      "cell_type": "code",
      "metadata": {
        "id": "tUCE2A_DVeMe",
        "colab": {
          "base_uri": "https://localhost:8080/"
        },
        "outputId": "ffeed859-f0ab-41e3-c459-96df6cfd875d"
      },
      "source": [
        "# link to google drive\n",
        "\n",
        "from google.colab import drive\n",
        "drive.mount('/content/gdrive/')\n"
      ],
      "execution_count": 7,
      "outputs": [
        {
          "output_type": "stream",
          "text": [
            "Drive already mounted at /content/gdrive/; to attempt to forcibly remount, call drive.mount(\"/content/gdrive/\", force_remount=True).\n"
          ],
          "name": "stdout"
        }
      ]
    },
    {
      "cell_type": "code",
      "metadata": {
        "id": "7j2NLxcrV9hj",
        "colab": {
          "base_uri": "https://localhost:8080/"
        },
        "outputId": "2cb98b6f-daf8-417c-da9d-901cc6053c72"
      },
      "source": [
        "#check that Gdrive is mounted\n",
        "\n",
        "!ls '/content/gdrive/My Drive/'"
      ],
      "execution_count": 8,
      "outputs": [
        {
          "output_type": "stream",
          "text": [
            "'Chayeb Bakery ize3a tejariyyeh.jpg'\n",
            " cifar10\n",
            " cifar10-pngs-in-folders.zip\n",
            " cnn.pptx\n",
            "'Colab Notebooks'\n",
            " convolution.pptx\n",
            " dataSample.7z\n",
            " emotions_weights.h5\n",
            "'Hikmat app.docx'\n",
            " malware-data\n",
            " mnist.pkl.gz\n",
            "'NN workshop-session1 (dzn-puyt-myj - Nov 19, 2020) (1).gjam'\n",
            "'NN workshop-session1 (dzn-puyt-myj - Nov 19, 2020).gjam'\n",
            " rapportThèseHikmatFarhatCondottaF1.pdf\n",
            " test.7z\n",
            " tmp.cpp\n",
            "'Untitled document.gdoc'\n"
          ],
          "name": "stdout"
        }
      ]
    },
    {
      "cell_type": "markdown",
      "metadata": {
        "id": "Ftyme-AIYFgK"
      },
      "source": [
        "#Setup SSH port forwarding"
      ]
    },
    {
      "cell_type": "code",
      "metadata": {
        "id": "C0t3EVVaWbUJ",
        "colab": {
          "base_uri": "https://localhost:8080/"
        },
        "outputId": "922d82e6-e579-4704-f2e7-9255d9d5729c"
      },
      "source": [
        "#1 - setup ssh/user \n",
        "\n",
        "\n",
        "#Generate a random root password\n",
        "import random, string\n",
        "#password = ''.join(random.choice(string.ascii_letters + string.digits) for i in range(30))\n",
        "\n",
        "\n",
        "#Setup sshd\n",
        "! apt-get install -qq -o=Dpkg::Use-Pty=0 openssh-server pwgen > /dev/null\n",
        "\n",
        "#Set root password\n",
        "! echo root:$password | chpasswd\n",
        "! mkdir -p /var/run/sshd\n",
        "! echo \"PermitRootLogin yes\" >> /etc/ssh/sshd_config\n",
        "! echo \"PasswordAuthentication yes\" >> /etc/ssh/sshd_config\n",
        "\n",
        "print(\"username: root\")\n",
        "print(\"password: \", password)\n",
        "\n",
        "#Run sshd\n",
        "get_ipython().system_raw('/usr/sbin/sshd -D &')"
      ],
      "execution_count": 9,
      "outputs": [
        {
          "output_type": "stream",
          "text": [
            "username: root\n",
            "password:  epMhfSgvQTTqAHwir2XN5SN9bdHdhL\n"
          ],
          "name": "stdout"
        }
      ]
    },
    {
      "cell_type": "code",
      "metadata": {
        "id": "H_1iQGAtYvCq"
      },
      "source": [
        "# 2 - Download Ngrok\n",
        "\n",
        "! wget -q -c -nc https://bin.equinox.io/c/4VmDzA7iaHb/ngrok-stable-linux-amd64.zip\n",
        "! unzip -qq -n ngrok-stable-linux-amd64.zip"
      ],
      "execution_count": 10,
      "outputs": []
    },
    {
      "cell_type": "code",
      "metadata": {
        "id": "68P192JwZBtF",
        "colab": {
          "base_uri": "https://localhost:8080/"
        },
        "outputId": "2324652a-dbaa-4cd4-ad72-a131ac44f142"
      },
      "source": [
        "# 3 - setup Ngrok - authtoken\n",
        "\n",
        "#Ask token\n",
        "print(\"Get your authtoken from https://dashboard.ngrok.com/auth\")\n",
        "import getpass\n",
        "authtoken = getpass.getpass()\n",
        "\n",
        "#Create tunnel\n",
        "get_ipython().system_raw('./ngrok authtoken $authtoken && ./ngrok tcp 22 &')"
      ],
      "execution_count": 11,
      "outputs": [
        {
          "output_type": "stream",
          "text": [
            "Get your authtoken from https://dashboard.ngrok.com/auth\n",
            "··········\n"
          ],
          "name": "stdout"
        }
      ]
    },
    {
      "cell_type": "markdown",
      "metadata": {
        "id": "N5sGgljXaTjL"
      },
      "source": [
        "Congratulations, you are ready to go. \n",
        "On Ngrok interface https://dashboard.ngrok.com/status you'll find the tcp address and the port \n",
        "\n",
        "connect using the following : \n",
        "\n",
        "```\n",
        "ssh root@0.tcp.ngrok.io -p [ngrok_port]\n",
        "\n",
        "> then enter the password generated previously\n",
        "\n",
        "```"
      ]
    },
    {
      "cell_type": "code",
      "metadata": {
        "id": "ACzGZ2_MaSQi"
      },
      "source": [
        "# When done, kill Ngrok\n",
        "\n",
        "!kill $(ps aux | grep './ngrok' | awk '{print $2}')"
      ],
      "execution_count": null,
      "outputs": []
    },
    {
      "cell_type": "code",
      "metadata": {
        "id": "TkF_vBT05IiD"
      },
      "source": [
        "!password='thotmos1'\n",
        "!echo root:$password|chpasswd"
      ],
      "execution_count": 6,
      "outputs": []
    },
    {
      "cell_type": "code",
      "metadata": {
        "id": "Cj9B0AJ15ZAA"
      },
      "source": [
        ""
      ],
      "execution_count": null,
      "outputs": []
    }
  ]
}