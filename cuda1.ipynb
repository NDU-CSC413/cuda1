{
  "nbformat": 4,
  "nbformat_minor": 0,
  "metadata": {
    "colab": {
      "name": "cuda1.ipynb",
      "provenance": [],
      "collapsed_sections": [],
      "authorship_tag": "ABX9TyM2KN7MFcjjFYV8KBSMlSO1",
      "include_colab_link": true
    },
    "kernelspec": {
      "name": "python3",
      "display_name": "Python 3"
    },
    "language_info": {
      "name": "python"
    },
    "accelerator": "GPU"
  },
  "cells": [
    {
      "cell_type": "markdown",
      "metadata": {
        "id": "view-in-github",
        "colab_type": "text"
      },
      "source": [
        "<a href=\"https://colab.research.google.com/github/NDU-CSC413/cuda1/blob/master/cuda1.ipynb\" target=\"_parent\"><img src=\"https://colab.research.google.com/assets/colab-badge.svg\" alt=\"Open In Colab\"/></a>"
      ]
    },
    {
      "cell_type": "markdown",
      "source": [
        "# Introduction"
      ],
      "metadata": {
        "id": "j850ooJSts3j"
      }
    },
    {
      "cell_type": "markdown",
      "source": [
        "Google colab creates a Linux instance that can be accesses from a Jupyter notebook. A Jupyter notebook consists of a sequence of cells. For our purpose there are two types of cells: **code** and **text**. For both cases you can \"execute\" the cell by pressing SHIFT-ENTER. For a text cell it will format it. You can always edit a text cell by double-clicking it.\n",
        "A code cell executes Python by default. In our case we would like to edit c++ (with CUDA extensions) files, compile and run them.\n",
        "\n",
        "First make sure that the runtime is GPU. From the menu choose Runtime->change runtime type-> Hardware accelerator choose GPU.\n",
        "\n",
        "We can run arbitrary shell commands by either preceding each one of them with a \"!\" or we can use the magic characters \"%%bash\" in the begining of the cell.\n",
        "\n",
        "As a first example let us determine the type of GPU that the instance has using the nvidia-smi command"
      ],
      "metadata": {
        "id": "U8Bcwla4txQC"
      }
    },
    {
      "cell_type": "code",
      "source": [
        "%%bash\n",
        "nvidia-smi"
      ],
      "metadata": {
        "id": "iUvSaO09uHMr",
        "outputId": "b23293b4-b6b1-4f03-f036-0fa1bfd7caa0",
        "colab": {
          "base_uri": "https://localhost:8080/"
        }
      },
      "execution_count": null,
      "outputs": [
        {
          "output_type": "stream",
          "name": "stdout",
          "text": [
            "Mon Apr  4 08:43:28 2022       \n",
            "+-----------------------------------------------------------------------------+\n",
            "| NVIDIA-SMI 460.32.03    Driver Version: 460.32.03    CUDA Version: 11.2     |\n",
            "|-------------------------------+----------------------+----------------------+\n",
            "| GPU  Name        Persistence-M| Bus-Id        Disp.A | Volatile Uncorr. ECC |\n",
            "| Fan  Temp  Perf  Pwr:Usage/Cap|         Memory-Usage | GPU-Util  Compute M. |\n",
            "|                               |                      |               MIG M. |\n",
            "|===============================+======================+======================|\n",
            "|   0  Tesla P100-PCIE...  Off  | 00000000:00:04.0 Off |                    0 |\n",
            "| N/A   35C    P0    26W / 250W |      0MiB / 16280MiB |      0%      Default |\n",
            "|                               |                      |                  N/A |\n",
            "+-------------------------------+----------------------+----------------------+\n",
            "                                                                               \n",
            "+-----------------------------------------------------------------------------+\n",
            "| Processes:                                                                  |\n",
            "|  GPU   GI   CI        PID   Type   Process name                  GPU Memory |\n",
            "|        ID   ID                                                   Usage      |\n",
            "|=============================================================================|\n",
            "|  No running processes found                                                 |\n",
            "+-----------------------------------------------------------------------------+\n"
          ]
        }
      ]
    },
    {
      "cell_type": "markdown",
      "source": [
        "# Example 0: Querying the device"
      ],
      "metadata": {
        "id": "i3S03FdSyY4H"
      }
    },
    {
      "cell_type": "code",
      "source": [
        "%%writefile device.cu\n",
        "#include <iostream>\n",
        "\n",
        "\n",
        "int main()\n",
        "{\n",
        "\tint device;\n",
        "\n",
        "\tcudaDeviceProp properties;\n",
        "\tcudaError_t err = cudaSuccess;\n",
        "\terr = cudaGetDevice(&device);\n",
        "\terr = cudaGetDeviceProperties(&properties, device);\n",
        "\tstd::cout << \"processor count\" << properties.multiProcessorCount << std::endl;\n",
        "\tstd::cout << \"warp size \" << properties.warpSize << std::endl;\n",
        "\tstd::cout << \"name=\" << properties.name << std::endl;\n",
        "\tstd::cout << \"Compute capability \" << properties.major << \".\" << properties.minor << \"\\n\";\n",
        "\tstd::cout << \"shared Memory/SM \" << properties.sharedMemPerMultiprocessor\n",
        "\t\t<< std::endl;\n",
        "\n",
        "\tif (err == cudaSuccess)\n",
        "\t\tprintf(\"device =%d\\n\", device);\n",
        "\telse\n",
        "\t\tprintf(\"error getting deivce\\n\");\n",
        "\treturn 0;\n",
        "}"
      ],
      "metadata": {
        "colab": {
          "base_uri": "https://localhost:8080/"
        },
        "id": "SAGYaudwyeI5",
        "outputId": "1cbc311c-2ca3-4a93-8cc6-ef7719aa764d"
      },
      "execution_count": 1,
      "outputs": [
        {
          "output_type": "stream",
          "name": "stdout",
          "text": [
            "Writing device.cu\n"
          ]
        }
      ]
    },
    {
      "cell_type": "code",
      "source": [
        "!nvcc -o device device.cu -run"
      ],
      "metadata": {
        "colab": {
          "base_uri": "https://localhost:8080/"
        },
        "id": "lfaVzt2VyiAS",
        "outputId": "4438a17c-8185-4f50-8aed-b195082e7874"
      },
      "execution_count": 3,
      "outputs": [
        {
          "output_type": "stream",
          "name": "stdout",
          "text": [
            "processor count=40\n",
            "warp size= 32\n",
            "name=Tesla T4\n",
            "Compute capability=7.5\n",
            "shared Memory/SM=65536\n",
            "device =0\n"
          ]
        }
      ]
    },
    {
      "cell_type": "markdown",
      "metadata": {
        "id": "QFYtmiSnH5Vk"
      },
      "source": [
        "## Example1\n",
        "\n",
        "To write code, create a code cell and write %%writefile filename.cu at the beginning. To actually create/modify the file \"run\" the cell"
      ]
    },
    {
      "cell_type": "code",
      "metadata": {
        "id": "fRvUzFHU3iL5",
        "colab": {
          "base_uri": "https://localhost:8080/"
        },
        "outputId": "ee6dc5da-d885-4520-8d41-5904a189b2dd"
      },
      "source": [
        "%%writefile example1.cu\n",
        "#include <iostream>\n",
        "__global__ void kernel(){\n",
        "  printf(\"Hello from GPU\\n\");\n",
        "}\n",
        "int main(){\n",
        "    kernel<<<1,2>>>();\n",
        "    cudaDeviceSynchronize();\n",
        "\n",
        "    \n",
        "}"
      ],
      "execution_count": 4,
      "outputs": [
        {
          "output_type": "stream",
          "name": "stdout",
          "text": [
            "Writing example1.cu\n"
          ]
        }
      ]
    },
    {
      "cell_type": "markdown",
      "source": [
        "At this point we can open the file from the left pane. Click on the folder icon in the left pane to see all the files.\n",
        "Alternatively, we can list them using the unix \"ls\" command.\n",
        "\n",
        "**IMPORTANT**: any file created from a Jupyter notebook will be lost once the instance is restarted.\n",
        "\n",
        "A colab instance is a actually a VM running linux so each time it starts \"from scratch\". If you want to save files, mount your Google drive from the left pane."
      ],
      "metadata": {
        "id": "BvOPzAaXv0Qh"
      }
    },
    {
      "cell_type": "code",
      "source": [
        "!ls -la"
      ],
      "metadata": {
        "id": "meIQb5tvwTNd",
        "outputId": "3ed0fd32-3f78-456b-f409-ef3183d03b15",
        "colab": {
          "base_uri": "https://localhost:8080/"
        }
      },
      "execution_count": null,
      "outputs": [
        {
          "output_type": "stream",
          "name": "stdout",
          "text": [
            "total 20\n",
            "drwxr-xr-x 1 root root 4096 Apr  4 08:44 .\n",
            "drwxr-xr-x 1 root root 4096 Apr  4 08:37 ..\n",
            "drwxr-xr-x 4 root root 4096 Mar 23 14:21 .config\n",
            "-rw-r--r-- 1 root root  111 Apr  4 08:44 example1.cu\n",
            "drwxr-xr-x 1 root root 4096 Mar 23 14:22 sample_data\n"
          ]
        }
      ]
    },
    {
      "cell_type": "markdown",
      "metadata": {
        "id": "zcYSXgHiIQEW"
      },
      "source": [
        "NVIDIA nvcc compiler. The file extension MUST be .cu, otherwise it compiles it with a \"regular\" c++ compiler."
      ]
    },
    {
      "cell_type": "code",
      "metadata": {
        "colab": {
          "base_uri": "https://localhost:8080/"
        },
        "id": "yYIJIr9oGu0W",
        "outputId": "7d9a9dd1-8736-4282-89ca-369c90192059"
      },
      "source": [
        "!nvcc example1.cu -o example1 \n",
        "!./example1"
      ],
      "execution_count": 5,
      "outputs": [
        {
          "output_type": "stream",
          "name": "stdout",
          "text": [
            "Hello from GPU\n",
            "Hello from GPU\n"
          ]
        }
      ]
    },
    {
      "cell_type": "markdown",
      "metadata": {
        "id": "6VwGQwEtIcRn"
      },
      "source": [
        "## Example2\n",
        "\n",
        "Most of the examples in the workshop use **managed memory**. In the following examples we will manage the memory manually. We will revisit managed memory later.\n",
        "\n",
        "Before computing on the GPU we need to transfer the data from host memory to device memory. Once the computation is done we transfer it back to the host.\n",
        "Below is a simple example of that process.\n",
        "\n",
        "\n",
        "\n"
      ]
    },
    {
      "cell_type": "markdown",
      "source": [
        "![cuda-host-device.png](data:image/png;base64,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)"
      ],
      "metadata": {
        "id": "ZoF4MH0R6Sg9"
      }
    },
    {
      "cell_type": "code",
      "metadata": {
        "colab": {
          "base_uri": "https://localhost:8080/"
        },
        "id": "-Ii6aU0mIb4A",
        "outputId": "33599747-48fb-4c6b-9d05-7c3aa5e9126b"
      },
      "source": [
        "%%writefile example2.cu\n",
        "#include <iostream>\n",
        "__global__ void kernel(int *x,int *y,int *z){\n",
        "    *z=*x+*y;\n",
        "}\n",
        "int main(){\n",
        "    int a=1,b=2,c=0; //host variables\n",
        "    int *d_a,*d_b,*d_c;//will hold device addresses\n",
        "    // allocate memory for one integer and store the\n",
        "     // address in d_a \n",
        "    cudaMalloc(&d_a,sizeof(int));\n",
        "    cudaMalloc(&d_b,sizeof(int));\n",
        "    cudaMalloc(&d_c,sizeof(int));\n",
        "    // copy the value of a and b\n",
        "    // TO device FROM host\n",
        "    cudaMemcpy(d_a,&a,sizeof(int),cudaMemcpyHostToDevice);\n",
        "    cudaMemcpy(d_b,&b,sizeof(int),cudaMemcpyHostToDevice);\n",
        "    kernel<<<1,1>>>(d_a,d_b,d_c);\n",
        "    // copy the result TO host FROM device\n",
        "    cudaMemcpy(&c,d_c,sizeof(int),cudaMemcpyDeviceToHost);\n",
        "    cudaDeviceSynchronize();\n",
        "    \n",
        "std::cout<<\"value of c is \"<<c<<\"\\n\";\n",
        "    \n",
        "}"
      ],
      "execution_count": 6,
      "outputs": [
        {
          "output_type": "stream",
          "name": "stdout",
          "text": [
            "Writing example2.cu\n"
          ]
        }
      ]
    },
    {
      "cell_type": "code",
      "metadata": {
        "colab": {
          "base_uri": "https://localhost:8080/"
        },
        "id": "iGlwAN9GHs4h",
        "outputId": "bc901a8c-482c-4dfb-e45d-16808dc671ed"
      },
      "source": [
        "!nvcc example2.cu -o example2\n",
        "!./example2"
      ],
      "execution_count": 7,
      "outputs": [
        {
          "output_type": "stream",
          "name": "stdout",
          "text": [
            "value of c is 3\n"
          ]
        }
      ]
    },
    {
      "cell_type": "markdown",
      "source": [
        "# More details\n",
        "Below is a similar code but with more details. In particular, it describes what and what cannot be accessed from the device and the explains the \\_\\_device\\_\\_ and \\_\\_global\\_\\_ modifiers."
      ],
      "metadata": {
        "id": "LAIwF6S200T6"
      }
    },
    {
      "cell_type": "code",
      "source": [
        "%%writefile example3.cu\n",
        "#include <iostream>\n",
        "\n",
        "/**\n",
        " * @brief constant global variables are accessible from both the CPU and GPU.\n",
        " * if the constant modified is removed from the declaration of g the compiler \n",
        " * will give an error.\n",
        " * NOTE: global variables in the sense of C++ are DIFFERENT than the __global__ \n",
        " * modifier.\n",
        " * NOTE: GPU access of const global variables other than int in Windows gives an error\n",
        " * on Linux it works. \n",
        " */\n",
        "const int g=10;\n",
        "#ifdef WINDOWS\n",
        "__device__ \n",
        "#endif \n",
        "const float a=2.3;\n",
        "\n",
        "/* __device__ means a function called from the device\n",
        "* AND runs on the device\n",
        "*/\n",
        "\n",
        "__device__ float useless(){\n",
        "    return 2*a;\n",
        "}\n",
        "\n",
        "/* __global__ means a function called from the host \n",
        " * and runs on device\n",
        " */\n",
        "__global__ void example1(int *address){\n",
        "    *address=useless()*g*17;\n",
        "\n",
        "}\n",
        "\n",
        "\n",
        "int main(){\n",
        "    int x;\n",
        "    /* variable that holds device address */\n",
        "    int * device_address;\n",
        "    /* allocate space for one int on the device \n",
        "     * and store the allocated address in device_address\n",
        "     * NOTE the passing of the address of device_address variable\n",
        "     */\n",
        "    cudaMalloc(&device_address,sizeof(int));\n",
        "    /* set the value at device address to 17 using a kernel launch*/\n",
        "    std::cout<<\"address of x=\"<<std::hex<<&x<<\"\\n\";\n",
        "    std::cout<<\"device address=\"<<device_address<<\"\\n\";\n",
        "    /* launch function example1 with one block containing 1 thread \n",
        "     * @NOTE: all kernel launches are asynchronous\n",
        "     * they return immediately to host code\n",
        "     **/\n",
        "    example1 <<<1,1>>>(device_address);\n",
        "    /* copy the result back from device to host */\n",
        "    cudaMemcpy(&x,device_address,sizeof(int),cudaMemcpyDeviceToHost);\n",
        "    cudaFree(device_address);\n",
        "    std::cout<<\"The value of x=\"<<std::dec<<x<<\"\\n\";\n",
        "\n",
        "}"
      ],
      "metadata": {
        "colab": {
          "base_uri": "https://localhost:8080/"
        },
        "id": "wqF5aCcS0ZTk",
        "outputId": "977bb825-3518-489b-8306-cd96a4883240"
      },
      "execution_count": 8,
      "outputs": [
        {
          "output_type": "stream",
          "name": "stdout",
          "text": [
            "Writing example3.cu\n"
          ]
        }
      ]
    },
    {
      "cell_type": "markdown",
      "metadata": {
        "id": "KHdfdpmriw_8"
      },
      "source": [
        "## Example4\n",
        "This is the first example where we use parallelism, computing the sum of two arrays.\n",
        "The computation is performed where each thread computes the sum of two elements. To accomplish that we map the thread id to the array index. In this example we use a __single__, __linear__, block therefore the thread id is equal to the builtin variable threadIdx.x"
      ]
    },
    {
      "cell_type": "code",
      "metadata": {
        "colab": {
          "base_uri": "https://localhost:8080/"
        },
        "id": "DR4-SAOvOdHq",
        "outputId": "6f614596-b76a-4739-c82e-d6828ce391be"
      },
      "source": [
        "%%writefile example4.cu\n",
        "/**\n",
        " * @file example2.cu\n",
        " * @author Hikmat Farhat (hfarhat@ndu.edu.lb)\n",
        " * @brief SAXPY example in CUDA\n",
        " * given vectors X and Y and a constant a compute a*X+Y\n",
        " * @version 0.1\n",
        " * @date 2021-12-20\n",
        " * \n",
        " * @copyright Copyright (c) 2021\n",
        " * \n",
        " */\n",
        "#include <iostream>\n",
        "#include <cuda_runtime.h>\n",
        "\n",
        "\n",
        "__global__ void saxpy(float *z,float *x,float *y,float a,int n){\n",
        "   \n",
        "     int i=blockDim.x*blockIdx.x+threadIdx.x;\n",
        "     if( i<n)\n",
        "        z[i]=a*x[i]+y[i];\n",
        "\n",
        "}\n",
        "int main(){\n",
        "    /* number of elements */\n",
        "    const int n=1<<20;\n",
        "    const float a=3.0;\n",
        "/* create 3 arrays on host */\n",
        "    float *x, *y, *z;\n",
        "    x=(float *)malloc(n*sizeof(float));\n",
        "    y=(float *)malloc(n*sizeof(float));\n",
        "    z=(float *)malloc(n*sizeof(float));\n",
        "/* populate x and y */\n",
        "    for(int i=0;i<n;++i){\n",
        "        x[i]=2;\n",
        "        y[i]=4;\n",
        "    }\n",
        "/* create 3 arrays on device */\n",
        "    float *dx,*dy,*dz;\n",
        "    cudaMalloc(&dx,n*sizeof(float));\n",
        "    cudaMalloc(&dy,n*sizeof(float));\n",
        "    cudaMalloc(&dz,n*sizeof(float));\n",
        "/* transfer the values of x,y to device */\n",
        "    cudaMemcpy(dx,x,n*sizeof(float),cudaMemcpyHostToDevice);\n",
        "    cudaMemcpy(dy,y,n*sizeof(float),cudaMemcpyHostToDevice);\n",
        "    /** 1-d grid \n",
        "     * in general type dim3 has 3 values (x,y,z)\n",
        "     * when omitted each d defaults to 1\n",
        "     * e.g. dim3 a(256)=a(256,1,1)\n",
        "     * dim3 b(256,128)=b(256,128,1)\n",
        "     ***/\n",
        "    dim3 block (256);\n",
        "    dim3 grid ((n+block.x-1)/block.x,1);\n",
        "    /**\n",
        "     * NOTE:  kernel launch is asynchronous with respect\n",
        "     * to host code whereas cudaMemcpy is blocking.\n",
        "     */\n",
        "    saxpy<<<grid,block>>>(dz,dx,dy,a,n); \n",
        "    saxpy<<<grid,block>>>(dz,dx,dy,a,n); \n",
        "\n",
        "    cudaError_t e=cudaGetLastError();\n",
        "    if(e!=cudaSuccess){\n",
        "        std::cout<<cudaGetErrorString(e)<<\"\\n\";\n",
        "    }\n",
        "/* transfer the result back to host */\n",
        "    cudaMemcpy(z,dz,n*sizeof(float),cudaMemcpyDeviceToHost);\n",
        "/* check if the result is correct. We expect all values \n",
        " * of z=10\n",
        " */\n",
        "    int sum=0;\n",
        "    for(int i=0;i<n;++i)\n",
        "        sum+=z[i];\n",
        "    if (sum!=n*10)std::cout<<\"sum error\"<<sum<<\"\\n\";\n",
        "    else\n",
        "        std::cout<<\"check passed. Sum= \"<<sum<<\"\\n\";\n",
        "    free(x);\n",
        "    free(y);\n",
        "    free(z);\n",
        "    cudaFree(dx);\n",
        "    cudaFree(dy);\n",
        "    cudaFree(dz);\n",
        "}"
      ],
      "execution_count": 10,
      "outputs": [
        {
          "output_type": "stream",
          "name": "stdout",
          "text": [
            "Overwriting example4.cu\n"
          ]
        }
      ]
    },
    {
      "cell_type": "code",
      "metadata": {
        "colab": {
          "base_uri": "https://localhost:8080/"
        },
        "id": "Lsn9ZgChkn7t",
        "outputId": "7a2d57c1-8f7d-466e-8fbb-f8b976ee2ace"
      },
      "source": [
        "!nvcc example4.cu -o example4 -run"
      ],
      "execution_count": 11,
      "outputs": [
        {
          "output_type": "stream",
          "name": "stdout",
          "text": [
            "check passed. Sum= 10485760\n"
          ]
        }
      ]
    },
    {
      "cell_type": "markdown",
      "metadata": {
        "id": "rki06JEJliGs"
      },
      "source": [
        "## Thread blocks\n",
        "\n",
        "In CUDA the __maximum__ number of threads in a block is 1024. What if in the previous example we would like to compute the sum of two vectors with size bigger than 1024? We use multiple blocks."
      ]
    },
    {
      "cell_type": "markdown",
      "metadata": {
        "id": "0t-WqnXdmMti"
      },
      "source": [
        "### Matrix addition\n",
        "We repeat the previous example by using multiple blocks."
      ]
    },
    {
      "cell_type": "code",
      "metadata": {
        "id": "lPHmBoEkmL1w",
        "colab": {
          "base_uri": "https://localhost:8080/"
        },
        "outputId": "b15fb962-7650-4785-f834-8ab745371bd6"
      },
      "source": [
        "%%writefile example5.cu\n",
        "/**\n",
        " * @file example5.cu\n",
        " * @author Hikmat Farhat (hfarhat@ndu.edu.lb)\n",
        " * @brief Simple matrix addition\n",
        " * @version 0.1\n",
        " * @date 2021-12-30\n",
        " * \n",
        " * @copyright Copyright (c) 2021\n",
        " * \n",
        " */\n",
        "#include <iostream>\n",
        "const size_t width=1024;\n",
        "const size_t height=1024;\n",
        "\n",
        "//typedef float arr_t[width];\n",
        "using arr_t = float[width];\n",
        "__global__ void matrix_add(arr_t *c,arr_t *a,arr_t *b,size_t width,size_t height){\n",
        "\n",
        "    size_t idx=blockIdx.x*blockDim.x+threadIdx.x;\n",
        "    size_t idy=blockIdx.y*blockDim.y+threadIdx.y;\n",
        "    if( idx<width && idy <height)\n",
        "        //c[idx][idy]=a[idx][idy]+b[idx][idy];\n",
        "        c[idy][idx]=a[idy][idx]+b[idy][idx];\n",
        "}\n",
        "int main(){\n",
        "    arr_t *a,*b,*c;\n",
        "    cudaMallocManaged(&a,height*sizeof(arr_t));\n",
        "    cudaMallocManaged(&b,height*sizeof(arr_t));\n",
        "    cudaMallocManaged(&c,height*sizeof(arr_t));\n",
        "    for(size_t i=0;i<width;++i){\n",
        "        for(size_t j=0;j<height;++j){\n",
        "            a[i][j]=1;\n",
        "            b[i][j]=2;\n",
        "        }\n",
        "    }\n",
        "    dim3 block(32,32);\n",
        "    dim3 grid(width/block.x+1,  height/block.y+1);    \n",
        "    matrix_add<<<grid,block>>>(c,a,b,width,height);\n",
        "    cudaDeviceSynchronize();\n",
        "    bool e=false;\n",
        "    for(size_t i=0;i<width;++i)\n",
        "        for(size_t j=0;j<height;++j)\n",
        "            if(c[i][j]!=3){\n",
        "                e=true;\n",
        "                break;\n",
        "            }\n",
        "    if (e==true)std::cout<<\"error\\n\";\n",
        "}"
      ],
      "execution_count": 13,
      "outputs": [
        {
          "output_type": "stream",
          "name": "stdout",
          "text": [
            "Writing example5.cu\n"
          ]
        }
      ]
    },
    {
      "cell_type": "code",
      "source": [
        ""
      ],
      "metadata": {
        "id": "sRTxKCPn4aq5"
      },
      "execution_count": null,
      "outputs": []
    }
  ]
}